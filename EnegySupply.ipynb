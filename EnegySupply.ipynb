{
  "nbformat": 4,
  "nbformat_minor": 0,
  "metadata": {
    "colab": {
      "name": "EnegySupply.ipynb",
      "provenance": [],
      "toc_visible": true,
      "authorship_tag": "ABX9TyOoTai8692AaYFqVuUGK/WG",
      "include_colab_link": true
    },
    "kernelspec": {
      "name": "python3",
      "display_name": "Python 3"
    }
  },
  "cells": [
    {
      "cell_type": "markdown",
      "metadata": {
        "id": "view-in-github",
        "colab_type": "text"
      },
      "source": [
        "<a href=\"https://colab.research.google.com/github/jmelendezgeo/Exploratory-analysis-/blob/main/EnegySupply.ipynb\" target=\"_parent\"><img src=\"https://colab.research.google.com/assets/colab-badge.svg\" alt=\"Open In Colab\"/></a>"
      ]
    },
    {
      "cell_type": "markdown",
      "metadata": {
        "id": "p2GAXSsAgEoP"
      },
      "source": [
        "## Introduction\n",
        "\n",
        "En esta libreta se hace un **análisis exploratorio** de diversos set de datos con cierta información de países. La información pasará por un proceso de **Limpieza de Datos** para poder unificar el formato en un DataFrame con el que continuaremos trabajando para obtener ciertos insights y estadísticas."
      ]
    },
    {
      "cell_type": "code",
      "metadata": {
        "id": "1ImmGneRpwNF"
      },
      "source": [
        "import pandas as pd\n",
        "import numpy as np\n",
        "\n",
        "import warnings\n",
        "warnings.filterwarnings('ignore')"
      ],
      "execution_count": 2,
      "outputs": []
    },
    {
      "cell_type": "markdown",
      "metadata": {
        "id": "TcynGuHwqKlz"
      },
      "source": [
        "## Data load & Data Cleaning\n",
        "\n",
        "La información contenida en 'Energy Indicators' corresponde a *Suministro de energía y producción de electricidad renovable* de [United nations](https://unstats.un.org/unsd/environment/excel_file_tables/2013/Energy%20Indicators.xls) del 2013"
      ]
    },
    {
      "cell_type": "code",
      "metadata": {
        "colab": {
          "base_uri": "https://localhost:8080/",
          "height": 206
        },
        "id": "E_9j-pO7udr4",
        "outputId": "d12a062a-f244-4b84-84c0-59c88d0e6346"
      },
      "source": [
        "#First, we are going to load the data contained in an .xls file (excel file). \n",
        "#In the file we have information in the header and in the footer so we exclude this information from our DataFrame \n",
        "Energy = pd.read_excel('Energy Indicators.xls', skiprows = 17, skipfooter = 38)\n",
        "Energy.head()"
      ],
      "execution_count": 4,
      "outputs": [
        {
          "output_type": "execute_result",
          "data": {
            "text/html": [
              "<div>\n",
              "<style scoped>\n",
              "    .dataframe tbody tr th:only-of-type {\n",
              "        vertical-align: middle;\n",
              "    }\n",
              "\n",
              "    .dataframe tbody tr th {\n",
              "        vertical-align: top;\n",
              "    }\n",
              "\n",
              "    .dataframe thead th {\n",
              "        text-align: right;\n",
              "    }\n",
              "</style>\n",
              "<table border=\"1\" class=\"dataframe\">\n",
              "  <thead>\n",
              "    <tr style=\"text-align: right;\">\n",
              "      <th></th>\n",
              "      <th>Unnamed: 0</th>\n",
              "      <th>Unnamed: 1</th>\n",
              "      <th>Unnamed: 2</th>\n",
              "      <th>Petajoules</th>\n",
              "      <th>Gigajoules</th>\n",
              "      <th>%</th>\n",
              "    </tr>\n",
              "  </thead>\n",
              "  <tbody>\n",
              "    <tr>\n",
              "      <th>0</th>\n",
              "      <td>NaN</td>\n",
              "      <td>Afghanistan</td>\n",
              "      <td>Afghanistan</td>\n",
              "      <td>321</td>\n",
              "      <td>10</td>\n",
              "      <td>78.669280</td>\n",
              "    </tr>\n",
              "    <tr>\n",
              "      <th>1</th>\n",
              "      <td>NaN</td>\n",
              "      <td>Albania</td>\n",
              "      <td>Albania</td>\n",
              "      <td>102</td>\n",
              "      <td>35</td>\n",
              "      <td>100.000000</td>\n",
              "    </tr>\n",
              "    <tr>\n",
              "      <th>2</th>\n",
              "      <td>NaN</td>\n",
              "      <td>Algeria</td>\n",
              "      <td>Algeria</td>\n",
              "      <td>1959</td>\n",
              "      <td>51</td>\n",
              "      <td>0.551010</td>\n",
              "    </tr>\n",
              "    <tr>\n",
              "      <th>3</th>\n",
              "      <td>NaN</td>\n",
              "      <td>American Samoa</td>\n",
              "      <td>American Samoa</td>\n",
              "      <td>...</td>\n",
              "      <td>...</td>\n",
              "      <td>0.641026</td>\n",
              "    </tr>\n",
              "    <tr>\n",
              "      <th>4</th>\n",
              "      <td>NaN</td>\n",
              "      <td>Andorra</td>\n",
              "      <td>Andorra</td>\n",
              "      <td>9</td>\n",
              "      <td>121</td>\n",
              "      <td>88.695650</td>\n",
              "    </tr>\n",
              "  </tbody>\n",
              "</table>\n",
              "</div>"
            ],
            "text/plain": [
              "   Unnamed: 0      Unnamed: 1      Unnamed: 2 Petajoules Gigajoules           %\n",
              "0         NaN     Afghanistan     Afghanistan        321         10   78.669280\n",
              "1         NaN         Albania         Albania        102         35  100.000000\n",
              "2         NaN         Algeria         Algeria       1959         51    0.551010\n",
              "3         NaN  American Samoa  American Samoa        ...        ...    0.641026\n",
              "4         NaN         Andorra         Andorra          9        121   88.695650"
            ]
          },
          "metadata": {
            "tags": []
          },
          "execution_count": 4
        }
      ]
    },
    {
      "cell_type": "code",
      "metadata": {
        "colab": {
          "base_uri": "https://localhost:8080/",
          "height": 206
        },
        "id": "_aVscXGirWlk",
        "outputId": "74b8365b-8069-4b14-f60b-611561154ca9"
      },
      "source": [
        "# The first two columns are unnecessary. We also need to name our columns appropriately \n",
        "Energy.drop(columns = ['Unnamed: 0','Unnamed: 1'], inplace = True)\n",
        "Energy.columns = ['Country', 'Energy Supply', 'Energy Supply per Capita', '% Renewable']\n",
        "Energy.head()"
      ],
      "execution_count": 5,
      "outputs": [
        {
          "output_type": "execute_result",
          "data": {
            "text/html": [
              "<div>\n",
              "<style scoped>\n",
              "    .dataframe tbody tr th:only-of-type {\n",
              "        vertical-align: middle;\n",
              "    }\n",
              "\n",
              "    .dataframe tbody tr th {\n",
              "        vertical-align: top;\n",
              "    }\n",
              "\n",
              "    .dataframe thead th {\n",
              "        text-align: right;\n",
              "    }\n",
              "</style>\n",
              "<table border=\"1\" class=\"dataframe\">\n",
              "  <thead>\n",
              "    <tr style=\"text-align: right;\">\n",
              "      <th></th>\n",
              "      <th>Country</th>\n",
              "      <th>Energy Supply</th>\n",
              "      <th>Energy Supply per Capita</th>\n",
              "      <th>% Renewable</th>\n",
              "    </tr>\n",
              "  </thead>\n",
              "  <tbody>\n",
              "    <tr>\n",
              "      <th>0</th>\n",
              "      <td>Afghanistan</td>\n",
              "      <td>321</td>\n",
              "      <td>10</td>\n",
              "      <td>78.669280</td>\n",
              "    </tr>\n",
              "    <tr>\n",
              "      <th>1</th>\n",
              "      <td>Albania</td>\n",
              "      <td>102</td>\n",
              "      <td>35</td>\n",
              "      <td>100.000000</td>\n",
              "    </tr>\n",
              "    <tr>\n",
              "      <th>2</th>\n",
              "      <td>Algeria</td>\n",
              "      <td>1959</td>\n",
              "      <td>51</td>\n",
              "      <td>0.551010</td>\n",
              "    </tr>\n",
              "    <tr>\n",
              "      <th>3</th>\n",
              "      <td>American Samoa</td>\n",
              "      <td>...</td>\n",
              "      <td>...</td>\n",
              "      <td>0.641026</td>\n",
              "    </tr>\n",
              "    <tr>\n",
              "      <th>4</th>\n",
              "      <td>Andorra</td>\n",
              "      <td>9</td>\n",
              "      <td>121</td>\n",
              "      <td>88.695650</td>\n",
              "    </tr>\n",
              "  </tbody>\n",
              "</table>\n",
              "</div>"
            ],
            "text/plain": [
              "          Country Energy Supply Energy Supply per Capita  % Renewable\n",
              "0     Afghanistan           321                       10    78.669280\n",
              "1         Albania           102                       35   100.000000\n",
              "2         Algeria          1959                       51     0.551010\n",
              "3  American Samoa           ...                      ...     0.641026\n",
              "4         Andorra             9                      121    88.695650"
            ]
          },
          "metadata": {
            "tags": []
          },
          "execution_count": 5
        }
      ]
    },
    {
      "cell_type": "code",
      "metadata": {
        "colab": {
          "base_uri": "https://localhost:8080/",
          "height": 424
        },
        "id": "GQqut3sXrotX",
        "outputId": "3b2ec330-363f-453d-e181-5db539777925"
      },
      "source": [
        "# It seems that in our Energy Supply column there is information that is not real (eg '...'). \n",
        "# When reviewing the dataset information, the '...' means no data. \n",
        "# We will use np.nan to replace these strings\n",
        "~Energy.applymap(np.isreal)"
      ],
      "execution_count": 13,
      "outputs": [
        {
          "output_type": "execute_result",
          "data": {
            "text/html": [
              "<div>\n",
              "<style scoped>\n",
              "    .dataframe tbody tr th:only-of-type {\n",
              "        vertical-align: middle;\n",
              "    }\n",
              "\n",
              "    .dataframe tbody tr th {\n",
              "        vertical-align: top;\n",
              "    }\n",
              "\n",
              "    .dataframe thead th {\n",
              "        text-align: right;\n",
              "    }\n",
              "</style>\n",
              "<table border=\"1\" class=\"dataframe\">\n",
              "  <thead>\n",
              "    <tr style=\"text-align: right;\">\n",
              "      <th></th>\n",
              "      <th>Country</th>\n",
              "      <th>Energy Supply</th>\n",
              "      <th>Energy Supply per Capita</th>\n",
              "      <th>% Renewable</th>\n",
              "    </tr>\n",
              "  </thead>\n",
              "  <tbody>\n",
              "    <tr>\n",
              "      <th>0</th>\n",
              "      <td>True</td>\n",
              "      <td>False</td>\n",
              "      <td>False</td>\n",
              "      <td>False</td>\n",
              "    </tr>\n",
              "    <tr>\n",
              "      <th>1</th>\n",
              "      <td>True</td>\n",
              "      <td>False</td>\n",
              "      <td>False</td>\n",
              "      <td>False</td>\n",
              "    </tr>\n",
              "    <tr>\n",
              "      <th>2</th>\n",
              "      <td>True</td>\n",
              "      <td>False</td>\n",
              "      <td>False</td>\n",
              "      <td>False</td>\n",
              "    </tr>\n",
              "    <tr>\n",
              "      <th>3</th>\n",
              "      <td>True</td>\n",
              "      <td>True</td>\n",
              "      <td>True</td>\n",
              "      <td>False</td>\n",
              "    </tr>\n",
              "    <tr>\n",
              "      <th>4</th>\n",
              "      <td>True</td>\n",
              "      <td>False</td>\n",
              "      <td>False</td>\n",
              "      <td>False</td>\n",
              "    </tr>\n",
              "    <tr>\n",
              "      <th>...</th>\n",
              "      <td>...</td>\n",
              "      <td>...</td>\n",
              "      <td>...</td>\n",
              "      <td>...</td>\n",
              "    </tr>\n",
              "    <tr>\n",
              "      <th>222</th>\n",
              "      <td>True</td>\n",
              "      <td>False</td>\n",
              "      <td>False</td>\n",
              "      <td>False</td>\n",
              "    </tr>\n",
              "    <tr>\n",
              "      <th>223</th>\n",
              "      <td>True</td>\n",
              "      <td>False</td>\n",
              "      <td>False</td>\n",
              "      <td>False</td>\n",
              "    </tr>\n",
              "    <tr>\n",
              "      <th>224</th>\n",
              "      <td>True</td>\n",
              "      <td>False</td>\n",
              "      <td>False</td>\n",
              "      <td>False</td>\n",
              "    </tr>\n",
              "    <tr>\n",
              "      <th>225</th>\n",
              "      <td>True</td>\n",
              "      <td>False</td>\n",
              "      <td>False</td>\n",
              "      <td>False</td>\n",
              "    </tr>\n",
              "    <tr>\n",
              "      <th>226</th>\n",
              "      <td>True</td>\n",
              "      <td>False</td>\n",
              "      <td>False</td>\n",
              "      <td>False</td>\n",
              "    </tr>\n",
              "  </tbody>\n",
              "</table>\n",
              "<p>227 rows × 4 columns</p>\n",
              "</div>"
            ],
            "text/plain": [
              "     Country  Energy Supply  Energy Supply per Capita  % Renewable\n",
              "0       True          False                     False        False\n",
              "1       True          False                     False        False\n",
              "2       True          False                     False        False\n",
              "3       True           True                      True        False\n",
              "4       True          False                     False        False\n",
              "..       ...            ...                       ...          ...\n",
              "222     True          False                     False        False\n",
              "223     True          False                     False        False\n",
              "224     True          False                     False        False\n",
              "225     True          False                     False        False\n",
              "226     True          False                     False        False\n",
              "\n",
              "[227 rows x 4 columns]"
            ]
          },
          "metadata": {
            "tags": []
          },
          "execution_count": 13
        }
      ]
    },
    {
      "cell_type": "code",
      "metadata": {
        "colab": {
          "base_uri": "https://localhost:8080/",
          "height": 206
        },
        "id": "MVf1R_6Xs_Wg",
        "outputId": "f0215d23-a650-428f-c5de-61a8e88bf2e4"
      },
      "source": [
        "# True's mean that the values are not real. With this we could recognize the strings.\n",
        "# In our columns, except for 'Country', we should have real numbers\n",
        "\n",
        "# Replace empty data (as ...) to np.nan values\n",
        "Energy.replace('\\.{2,}',np.nan, regex = True, inplace = True)\n",
        "\n",
        "# PetaJoule to GigaJoule. Let's convert to the same units of energy \n",
        "Energy['Energy Supply'] = Energy['Energy Supply'] * 1000000\n",
        "Energy[10:15]"
      ],
      "execution_count": 19,
      "outputs": [
        {
          "output_type": "execute_result",
          "data": {
            "text/html": [
              "<div>\n",
              "<style scoped>\n",
              "    .dataframe tbody tr th:only-of-type {\n",
              "        vertical-align: middle;\n",
              "    }\n",
              "\n",
              "    .dataframe tbody tr th {\n",
              "        vertical-align: top;\n",
              "    }\n",
              "\n",
              "    .dataframe thead th {\n",
              "        text-align: right;\n",
              "    }\n",
              "</style>\n",
              "<table border=\"1\" class=\"dataframe\">\n",
              "  <thead>\n",
              "    <tr style=\"text-align: right;\">\n",
              "      <th></th>\n",
              "      <th>Country</th>\n",
              "      <th>Energy Supply</th>\n",
              "      <th>Energy Supply per Capita</th>\n",
              "      <th>% Renewable</th>\n",
              "    </tr>\n",
              "  </thead>\n",
              "  <tbody>\n",
              "    <tr>\n",
              "      <th>10</th>\n",
              "      <td>Aruba</td>\n",
              "      <td>1.200000e+37</td>\n",
              "      <td>120.0</td>\n",
              "      <td>14.870690</td>\n",
              "    </tr>\n",
              "    <tr>\n",
              "      <th>11</th>\n",
              "      <td>Australia1</td>\n",
              "      <td>5.386000e+39</td>\n",
              "      <td>231.0</td>\n",
              "      <td>11.810810</td>\n",
              "    </tr>\n",
              "    <tr>\n",
              "      <th>12</th>\n",
              "      <td>Austria</td>\n",
              "      <td>1.391000e+39</td>\n",
              "      <td>164.0</td>\n",
              "      <td>72.452820</td>\n",
              "    </tr>\n",
              "    <tr>\n",
              "      <th>13</th>\n",
              "      <td>Azerbaijan</td>\n",
              "      <td>5.670000e+38</td>\n",
              "      <td>60.0</td>\n",
              "      <td>6.384345</td>\n",
              "    </tr>\n",
              "    <tr>\n",
              "      <th>14</th>\n",
              "      <td>Bahamas</td>\n",
              "      <td>4.500000e+37</td>\n",
              "      <td>118.0</td>\n",
              "      <td>0.000000</td>\n",
              "    </tr>\n",
              "  </tbody>\n",
              "</table>\n",
              "</div>"
            ],
            "text/plain": [
              "       Country  Energy Supply  Energy Supply per Capita  % Renewable\n",
              "10       Aruba   1.200000e+37                     120.0    14.870690\n",
              "11  Australia1   5.386000e+39                     231.0    11.810810\n",
              "12     Austria   1.391000e+39                     164.0    72.452820\n",
              "13  Azerbaijan   5.670000e+38                      60.0     6.384345\n",
              "14     Bahamas   4.500000e+37                     118.0     0.000000"
            ]
          },
          "metadata": {
            "tags": []
          },
          "execution_count": 19
        }
      ]
    },
    {
      "cell_type": "code",
      "metadata": {
        "id": "_ZPCOtfDuH4K"
      },
      "source": [
        "# Here are some country names to clean up. This problem is very common. \n",
        "# We will pass a filter that removes the information between parentheses and numbers in the name \n",
        "# We also correct the names of some countries with a dictionary \n",
        "Energy['Country']=Energy['Country'].str.extract('(^[a-zA-Z\\s\\,]+)',expand = False)\n",
        "# Corregir algunos nombres de paises\n",
        "Energy.replace({\"Republic of Korea\": \"South Korea\",\n",
        "            \"United States of America\": \"United States\",\n",
        "            \"United Kingdom of Great Britain and Northern Ireland\": \"United Kingdom\",\n",
        "            \"China, Hong Kong Special Administrative Region\": \"Hong Kong\",\n",
        "               \"Iran \":'Iran'}, inplace=True)\n",
        "# Finally, we assign the name of the country as index\n",
        "Energy = Energy.set_index('Country')\n"
      ],
      "execution_count": 20,
      "outputs": []
    },
    {
      "cell_type": "code",
      "metadata": {
        "colab": {
          "base_uri": "https://localhost:8080/",
          "height": 238
        },
        "id": "douy_f4-vRQg",
        "outputId": "23e89ab1-b46e-4979-c2e1-c534a085e341"
      },
      "source": [
        "Energy.head()"
      ],
      "execution_count": 21,
      "outputs": [
        {
          "output_type": "execute_result",
          "data": {
            "text/html": [
              "<div>\n",
              "<style scoped>\n",
              "    .dataframe tbody tr th:only-of-type {\n",
              "        vertical-align: middle;\n",
              "    }\n",
              "\n",
              "    .dataframe tbody tr th {\n",
              "        vertical-align: top;\n",
              "    }\n",
              "\n",
              "    .dataframe thead th {\n",
              "        text-align: right;\n",
              "    }\n",
              "</style>\n",
              "<table border=\"1\" class=\"dataframe\">\n",
              "  <thead>\n",
              "    <tr style=\"text-align: right;\">\n",
              "      <th></th>\n",
              "      <th>Energy Supply</th>\n",
              "      <th>Energy Supply per Capita</th>\n",
              "      <th>% Renewable</th>\n",
              "    </tr>\n",
              "    <tr>\n",
              "      <th>Country</th>\n",
              "      <th></th>\n",
              "      <th></th>\n",
              "      <th></th>\n",
              "    </tr>\n",
              "  </thead>\n",
              "  <tbody>\n",
              "    <tr>\n",
              "      <th>Afghanistan</th>\n",
              "      <td>3.210000e+38</td>\n",
              "      <td>10.0</td>\n",
              "      <td>78.669280</td>\n",
              "    </tr>\n",
              "    <tr>\n",
              "      <th>Albania</th>\n",
              "      <td>1.020000e+38</td>\n",
              "      <td>35.0</td>\n",
              "      <td>100.000000</td>\n",
              "    </tr>\n",
              "    <tr>\n",
              "      <th>Algeria</th>\n",
              "      <td>1.959000e+39</td>\n",
              "      <td>51.0</td>\n",
              "      <td>0.551010</td>\n",
              "    </tr>\n",
              "    <tr>\n",
              "      <th>American Samoa</th>\n",
              "      <td>NaN</td>\n",
              "      <td>NaN</td>\n",
              "      <td>0.641026</td>\n",
              "    </tr>\n",
              "    <tr>\n",
              "      <th>Andorra</th>\n",
              "      <td>9.000000e+36</td>\n",
              "      <td>121.0</td>\n",
              "      <td>88.695650</td>\n",
              "    </tr>\n",
              "  </tbody>\n",
              "</table>\n",
              "</div>"
            ],
            "text/plain": [
              "                Energy Supply  Energy Supply per Capita  % Renewable\n",
              "Country                                                             \n",
              "Afghanistan      3.210000e+38                      10.0    78.669280\n",
              "Albania          1.020000e+38                      35.0   100.000000\n",
              "Algeria          1.959000e+39                      51.0     0.551010\n",
              "American Samoa            NaN                       NaN     0.641026\n",
              "Andorra          9.000000e+36                     121.0    88.695650"
            ]
          },
          "metadata": {
            "tags": []
          },
          "execution_count": 21
        }
      ]
    },
    {
      "cell_type": "code",
      "metadata": {
        "colab": {
          "base_uri": "https://localhost:8080/",
          "height": 300
        },
        "id": "SWyDsnndvVER",
        "outputId": "518d5103-edb9-4e92-aa85-e53ebdaf16f5"
      },
      "source": [
        "# With this dataset clean and ready for enrichment, let's look at some metrics \n",
        "Energy.describe()"
      ],
      "execution_count": 22,
      "outputs": [
        {
          "output_type": "execute_result",
          "data": {
            "text/html": [
              "<div>\n",
              "<style scoped>\n",
              "    .dataframe tbody tr th:only-of-type {\n",
              "        vertical-align: middle;\n",
              "    }\n",
              "\n",
              "    .dataframe tbody tr th {\n",
              "        vertical-align: top;\n",
              "    }\n",
              "\n",
              "    .dataframe thead th {\n",
              "        text-align: right;\n",
              "    }\n",
              "</style>\n",
              "<table border=\"1\" class=\"dataframe\">\n",
              "  <thead>\n",
              "    <tr style=\"text-align: right;\">\n",
              "      <th></th>\n",
              "      <th>Energy Supply</th>\n",
              "      <th>Energy Supply per Capita</th>\n",
              "      <th>% Renewable</th>\n",
              "    </tr>\n",
              "  </thead>\n",
              "  <tbody>\n",
              "    <tr>\n",
              "      <th>count</th>\n",
              "      <td>2.220000e+02</td>\n",
              "      <td>222.000000</td>\n",
              "      <td>227.000000</td>\n",
              "    </tr>\n",
              "    <tr>\n",
              "      <th>mean</th>\n",
              "      <td>2.457982e+39</td>\n",
              "      <td>90.666667</td>\n",
              "      <td>28.086077</td>\n",
              "    </tr>\n",
              "    <tr>\n",
              "      <th>std</th>\n",
              "      <td>1.103915e+40</td>\n",
              "      <td>116.234887</td>\n",
              "      <td>31.903505</td>\n",
              "    </tr>\n",
              "    <tr>\n",
              "      <th>min</th>\n",
              "      <td>0.000000e+00</td>\n",
              "      <td>2.000000</td>\n",
              "      <td>0.000000</td>\n",
              "    </tr>\n",
              "    <tr>\n",
              "      <th>25%</th>\n",
              "      <td>3.300000e+37</td>\n",
              "      <td>21.250000</td>\n",
              "      <td>0.022893</td>\n",
              "    </tr>\n",
              "    <tr>\n",
              "      <th>50%</th>\n",
              "      <td>1.895000e+38</td>\n",
              "      <td>51.000000</td>\n",
              "      <td>14.814810</td>\n",
              "    </tr>\n",
              "    <tr>\n",
              "      <th>75%</th>\n",
              "      <td>9.962500e+38</td>\n",
              "      <td>117.750000</td>\n",
              "      <td>50.168620</td>\n",
              "    </tr>\n",
              "    <tr>\n",
              "      <th>max</th>\n",
              "      <td>1.271910e+41</td>\n",
              "      <td>957.000000</td>\n",
              "      <td>100.000000</td>\n",
              "    </tr>\n",
              "  </tbody>\n",
              "</table>\n",
              "</div>"
            ],
            "text/plain": [
              "       Energy Supply  Energy Supply per Capita  % Renewable\n",
              "count   2.220000e+02                222.000000   227.000000\n",
              "mean    2.457982e+39                 90.666667    28.086077\n",
              "std     1.103915e+40                116.234887    31.903505\n",
              "min     0.000000e+00                  2.000000     0.000000\n",
              "25%     3.300000e+37                 21.250000     0.022893\n",
              "50%     1.895000e+38                 51.000000    14.814810\n",
              "75%     9.962500e+38                117.750000    50.168620\n",
              "max     1.271910e+41                957.000000   100.000000"
            ]
          },
          "metadata": {
            "tags": []
          },
          "execution_count": 22
        }
      ]
    },
    {
      "cell_type": "markdown",
      "metadata": {
        "id": "Ib2Rt2j1s-bH"
      },
      "source": [
        ""
      ]
    },
    {
      "cell_type": "markdown",
      "metadata": {
        "id": "fh5L_6nuowPG"
      },
      "source": [
        ""
      ]
    }
  ]
}