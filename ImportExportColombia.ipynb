{
  "nbformat": 4,
  "nbformat_minor": 0,
  "metadata": {
    "colab": {
      "name": "ImportExportColombia.ipynb",
      "provenance": [],
      "authorship_tag": "ABX9TyNpRKrc8YfNcywDHKURTLTT",
      "include_colab_link": true
    },
    "kernelspec": {
      "name": "python3",
      "display_name": "Python 3"
    }
  },
  "cells": [
    {
      "cell_type": "markdown",
      "metadata": {
        "id": "view-in-github",
        "colab_type": "text"
      },
      "source": [
        "<a href=\"https://colab.research.google.com/github/jmelendezgeo/Exploratory-analysis-/blob/main/ImportExportColombia.ipynb\" target=\"_parent\"><img src=\"https://colab.research.google.com/assets/colab-badge.svg\" alt=\"Open In Colab\"/></a>"
      ]
    },
    {
      "cell_type": "markdown",
      "metadata": {
        "id": "3A9clZFbpcnO"
      },
      "source": [
        "Note: This notebooks uses datasets saved on my repository. This data is availafble on source pages.\n",
        "\n",
        "In this notebook we will work mainly with a historical record of imports and exports of Colombia and we will associate it with the respective products \n",
        "\n",
        "- Data sets load\n",
        "- Cleaning, joining and preparation\n",
        "- Data Visualization\n",
        "- Storytelling and insights"
      ]
    },
    {
      "cell_type": "markdown",
      "metadata": {
        "id": "6mKlgt9-pWiD"
      },
      "source": [
        "# Imports"
      ]
    },
    {
      "cell_type": "code",
      "metadata": {
        "id": "PzVwT-sdGnPB"
      },
      "source": [
        "import pandas as pd\n",
        "import numpy as np\n",
        "import matplotlib.pyplot as plt\n",
        "import seaborn as sns\n",
        "from bokeh.io import output_notebook"
      ],
      "execution_count": 2,
      "outputs": []
    },
    {
      "cell_type": "markdown",
      "metadata": {
        "id": "ifxkxjrHujTn"
      },
      "source": [
        "# Data Load"
      ]
    },
    {
      "cell_type": "code",
      "metadata": {
        "id": "cVOLMOMkGZs5"
      },
      "source": [
        "# COLOMBIA EXPORTS\n",
        "url = 'https://raw.githubusercontent.com/jmelendezgeo/Data-Triathlon/main/colombia_exports.csv'\n",
        "colombia_exports = pd.read_csv(url, sep = '|')\n",
        "# COLOMBIA IMPORTS\n",
        "url = 'https://raw.githubusercontent.com/jmelendezgeo/Data-Triathlon/main/colombia_imports.csv'\n",
        "colombia_imports = pd.read_csv(url, sep = '|')\n",
        "# COUNTRY NAMES\n",
        "url = 'https://raw.githubusercontent.com/jmelendezgeo/Data-Triathlon/main/country_names.csv'\n",
        "country_names = pd.read_csv(url, sep = '|')\n",
        "# GROUP SITC\n",
        "url = 'https://raw.githubusercontent.com/jmelendezgeo/Data-Triathlon/main/groups_sitc_rev2.csv'\n",
        "groups_sitc = pd.read_csv(url, sep= '|')\n",
        "# PRODUCTS SITC\n",
        "url = 'https://raw.githubusercontent.com/jmelendezgeo/Data-Triathlon/main/products_sitc_rev2.csv'\n",
        "products_sitc = pd.read_csv(url, sep = '|')\n",
        "\n"
      ],
      "execution_count": 3,
      "outputs": []
    },
    {
      "cell_type": "markdown",
      "metadata": {
        "id": "nFTluowZwYBq"
      },
      "source": [
        "# Basic dataset info\n",
        "**Exports**\n",
        "```\n",
        "<class 'pandas.core.frame.DataFrame'>\n",
        "RangeIndex: 389596 entries, 0 to 389595\n",
        "Data columns (total 7 columns):\n",
        " #   Column        Non-Null Count   Dtype  \n",
        "---  ------        --------------   -----  \n",
        " 0   Unnamed: 0    389596 non-null  int64  \n",
        " 1   Unnamed: 0.1  389596 non-null  int64  \n",
        " 2   year          389596 non-null  int64  \n",
        " 3   origin        389596 non-null  object \n",
        " 4   dest          389596 non-null  object \n",
        " 5   sitc4         389596 non-null  int64  \n",
        " 6   export_val    389596 non-null  float64\n",
        "dtypes: float64(1), int64(4), object(2)\n",
        "memory usage: 20.8+ MB\n",
        "```\n",
        "**Imports**\n",
        "\n",
        "```\n",
        "<class 'pandas.core.frame.DataFrame'>\n",
        "RangeIndex: 560492 entries, 0 to 560491\n",
        "Data columns (total 7 columns):\n",
        " #   Column        Non-Null Count   Dtype  \n",
        "---  ------        --------------   -----  \n",
        " 0   Unnamed: 0    560492 non-null  int64  \n",
        " 1   Unnamed: 0.1  560492 non-null  int64  \n",
        " 2   year          560492 non-null  int64  \n",
        " 3   origin        560492 non-null  object \n",
        " 4   dest          560492 non-null  object \n",
        " 5   sitc4         560492 non-null  int64  \n",
        " 6   export_val    560492 non-null  float64\n",
        "dtypes: float64(1), int64(4), object(2)\n",
        "memory usage: 29.9+ MB\n",
        "```\n",
        "**Products**\n",
        "```\n",
        "<class 'pandas.core.frame.DataFrame'>\n",
        "RangeIndex: 988 entries, 0 to 987\n",
        "Data columns (total 4 columns):\n",
        " #   Column      Non-Null Count  Dtype \n",
        "---  ------      --------------  ----- \n",
        " 0   Unnamed: 0  988 non-null    int64 \n",
        " 1   id          988 non-null    object\n",
        " 2   sitc        988 non-null    int64 \n",
        " 3   name        988 non-null    object\n",
        "dtypes: int64(2), object(2)\n",
        "memory usage: 31.0+ KB\n",
        "```\n",
        "**Groups**\n",
        "```\n",
        "<class 'pandas.core.frame.DataFrame'>\n",
        "RangeIndex: 65 entries, 0 to 64\n",
        "Data columns (total 3 columns):\n",
        " #   Column      Non-Null Count  Dtype \n",
        "---  ------      --------------  ----- \n",
        " 0   Unnamed: 0  65 non-null     int64 \n",
        " 1   id          65 non-null     int64 \n",
        " 2   category    65 non-null     object\n",
        "dtypes: int64(2), object(1)\n",
        "memory usage: 1.6+ KB\n",
        "```\n",
        "\n",
        "**Countries**\n",
        "\n",
        "```\n",
        "<class 'pandas.core.frame.DataFrame'>\n",
        "RangeIndex: 263 entries, 0 to 262\n",
        "Data columns (total 4 columns):\n",
        " #   Column      Non-Null Count  Dtype \n",
        "---  ------      --------------  ----- \n",
        " 0   Unnamed: 0  263 non-null    int64 \n",
        " 1   id          263 non-null    object\n",
        " 2   id_3char    263 non-null    object\n",
        " 3   name        263 non-null    object\n",
        "dtypes: int64(1), object(3)\n",
        "memory usage: 8.3+ KB\n",
        "```\n",
        "\n",
        "\n",
        "\n",
        "\n",
        "\n",
        "\n",
        "\n",
        "\n",
        "\n",
        "\n",
        "\n",
        "\n"
      ]
    },
    {
      "cell_type": "code",
      "metadata": {
        "id": "Z6u8O2KuGrtP"
      },
      "source": [
        "def create_continent(acr):\n",
        "  \"\"\"This function receives the acronym of a country \n",
        "  and relates the first two letters with the respective continents. \n",
        "  Returns the name of the continent  \"\"\"\n",
        "\n",
        "  if acr[0:2] == 'af':\n",
        "    return 'Africa'\n",
        "  elif acr[0:2] == 'as':\n",
        "    return 'Asia'\n",
        "  elif acr[0:2] == 'eu':\n",
        "    return 'Europe'\n",
        "  elif acr[0:2] == 'na':\n",
        "    return 'North America'\n",
        "  elif acr[0:2] == 'oc':\n",
        "    return 'Oceania'\n",
        "  elif acr[0:2] == 'sa':\n",
        "    return 'South America'\n",
        "  else:\n",
        "    return 'Other'"
      ],
      "execution_count": null,
      "outputs": []
    },
    {
      "cell_type": "code",
      "metadata": {
        "id": "95QPFV9aGwu6"
      },
      "source": [
        "# We want to drop unnecessary columns \n",
        "columns_to_keep = ['year','origin','dest','sitc4','export_val']\n",
        "colombia_exports = colombia_exports[columns_to_keep]\n",
        "colombia_exports=colombia_exports.rename(columns={'sitc4':'sitc'})\n",
        "colombia_imports = colombia_imports[columns_to_keep]\n",
        "colombia_imports = colombia_imports.rename(columns={'sitc4':'sitc', 'export_val':'import_val'})\n",
        "country_names = country_names[['id','id_3char','name']]\n",
        "groups_sitc = groups_sitc[['id','category']]\n",
        "groups_sitc['id'] = groups_sitc['id'].astype(str).str.zfill(2) # group code has 2 characters\n",
        "products_sitc = products_sitc[['id','sitc','name']]"
      ],
      "execution_count": null,
      "outputs": []
    },
    {
      "cell_type": "code",
      "metadata": {
        "id": "kwcOmUx4G0zV"
      },
      "source": [
        "# Joining information \n",
        "# -------------------------- EXPORTS DF-------------------------------------\n",
        "exports_df = pd.merge(colombia_exports,country_names, how = 'inner', left_on = 'dest', right_on = 'id_3char').drop(columns='id_3char')\n",
        "exports_df['to continent'] = exports_df['id'].apply(lambda x : create_continent(x))\n",
        "exports_df = (exports_df\n",
        "              .rename(columns={'name':'country name'})\n",
        "              .drop(columns='id'))\n",
        "exports_df = (pd.merge(exports_df,products_sitc[['sitc','name']], how='inner', on = 'sitc' )\n",
        "                .rename(columns={'name':'product name'}))\n",
        "exports_df['sitc'] = exports_df['sitc'].astype(str).str.zfill(4) # Now we need 4 characters in sitc\n",
        "exports_df['sitc']=exports_df['sitc'].str.extract(r'(^\\d{2})') # The first 2 characters are the group sitc code \n",
        "exports_df = (pd.merge(exports_df,groups_sitc,how='inner',left_on='sitc',right_on='id')\n",
        "                .drop(columns=['sitc','id']))\n",
        "\n",
        "# --------------------------- IMPORTS DF ---------------------------------------\n",
        "imports_df = pd.merge(colombia_imports,country_names, how = 'inner', left_on = 'dest', right_on = 'id_3char').drop(columns='id_3char')\n",
        "imports_df['from continent'] = imports_df['id'].apply(lambda x : create_continent(x))\n",
        "imports_df = (imports_df\n",
        "              .rename(columns={'name':'country name'})\n",
        "              .drop(columns='id'))\n",
        "imports_df = (pd.merge(imports_df,products_sitc[['sitc','name']], how='inner', on = 'sitc' )\n",
        "                .rename(columns={'name':'product name'}))\n",
        "imports_df['sitc'] = imports_df['sitc'].astype(str).str.zfill(4) # Now we need 4 characters in sitc\n",
        "imports_df['sitc']=imports_df['sitc'].str.extract(r'(^\\d{2})') # The first 2 characters are the group sitc code \n",
        "imports_df = (pd.merge(imports_df,groups_sitc,how='inner',left_on='sitc',right_on='id')\n",
        "                .drop(columns=['sitc','id']))\n",
        "\n"
      ],
      "execution_count": null,
      "outputs": []
    },
    {
      "cell_type": "code",
      "metadata": {
        "id": "OYdL5fuyG-Qr"
      },
      "source": [
        "exports_df.groupby('to continent').count()['year'].sort_values(ascending=False)"
      ],
      "execution_count": null,
      "outputs": []
    }
  ]
}