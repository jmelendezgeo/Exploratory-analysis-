{
  "nbformat": 4,
  "nbformat_minor": 0,
  "metadata": {
    "colab": {
      "name": "ImportExportColombia.ipynb",
      "provenance": [],
      "authorship_tag": "ABX9TyM9mfltjaMqjS0OEoYR6ln6",
      "include_colab_link": true
    },
    "kernelspec": {
      "name": "python3",
      "display_name": "Python 3"
    }
  },
  "cells": [
    {
      "cell_type": "markdown",
      "metadata": {
        "id": "view-in-github",
        "colab_type": "text"
      },
      "source": [
        "<a href=\"https://colab.research.google.com/github/jmelendezgeo/Exploratory-analysis-/blob/main/ImportExportColombia.ipynb\" target=\"_parent\"><img src=\"https://colab.research.google.com/assets/colab-badge.svg\" alt=\"Open In Colab\"/></a>"
      ]
    },
    {
      "cell_type": "code",
      "metadata": {
        "id": "PzVwT-sdGnPB"
      },
      "source": [
        "import pandas as pd\n",
        "import numpy as np"
      ],
      "execution_count": null,
      "outputs": []
    },
    {
      "cell_type": "code",
      "metadata": {
        "id": "cVOLMOMkGZs5"
      },
      "source": [
        "# COLOMBIA EXPORTS\n",
        "url = 'https://raw.githubusercontent.com/jmelendezgeo/Data-Triathlon/main/colombia_exports.csv'\n",
        "colombia_exports = pd.read_csv(url, sep = '|')\n",
        "# COLOMBIA IMPORTS\n",
        "url = 'https://raw.githubusercontent.com/jmelendezgeo/Data-Triathlon/main/colombia_imports.csv'\n",
        "colombia_imports = pd.read_csv(url, sep = '|')\n",
        "# COUNTRY NAMES\n",
        "url = 'https://raw.githubusercontent.com/jmelendezgeo/Data-Triathlon/main/country_names.csv'\n",
        "country_names = pd.read_csv(url, sep = '|')\n",
        "# GROUP SITC\n",
        "url = 'https://raw.githubusercontent.com/jmelendezgeo/Data-Triathlon/main/groups_sitc_rev2.csv'\n",
        "groups_sitc = pd.read_csv(url, sep= '|')\n",
        "# PRODUCTS SITC\n",
        "url = 'https://raw.githubusercontent.com/jmelendezgeo/Data-Triathlon/main/products_sitc_rev2.csv'\n",
        "products_sitc = pd.read_csv(url, sep = '|')\n",
        "\n",
        "# CURRENT GDP \n",
        "url = 'https://raw.githubusercontent.com/jmelendezgeo/Data-Triathlon/main/GDP_current.csv'\n",
        "GDP_current = pd.read_csv(url, skiprows = 4)\n",
        "# GDP GROWTH\n",
        "url = 'https://raw.githubusercontent.com/jmelendezgeo/Data-Triathlon/main/GDP_growth.csv'\n",
        "GDP_growth = pd.read_csv(url,skiprows = 4 )\n",
        "# ELECTRICITY POWER ACCESS\n",
        "url = 'https://raw.githubusercontent.com/jmelendezgeo/Data-Triathlon/main/elec_accs.csv'\n",
        "elec_access = pd.read_csv (url, skiprows = 4)\n",
        "# ELECTRICITY POWER USE \n",
        "url = 'https://raw.githubusercontent.com/jmelendezgeo/Data-Triathlon/main/elec_use.csv'\n",
        "elec_use = pd.read_csv(url,skiprows = 4)\n",
        "# POPULATION\n",
        "url = 'https://raw.githubusercontent.com/jmelendezgeo/Data-Triathlon/main/population.csv'\n",
        "population = pd.read_csv(url,skiprows=4)\n"
      ],
      "execution_count": null,
      "outputs": []
    },
    {
      "cell_type": "code",
      "metadata": {
        "id": "Z6u8O2KuGrtP"
      },
      "source": [
        "def create_continent(acr):\n",
        "  \"\"\"This function receives the acronym of a country \n",
        "  and relates the first two letters with the respective continents. \n",
        "  Returns the name of the continent  \"\"\"\n",
        "\n",
        "  if acr[0:2] == 'af':\n",
        "    return 'Africa'\n",
        "  elif acr[0:2] == 'as':\n",
        "    return 'Asia'\n",
        "  elif acr[0:2] == 'eu':\n",
        "    return 'Europe'\n",
        "  elif acr[0:2] == 'na':\n",
        "    return 'North America'\n",
        "  elif acr[0:2] == 'oc':\n",
        "    return 'Oceania'\n",
        "  elif acr[0:2] == 'sa':\n",
        "    return 'South America'\n",
        "  else:\n",
        "    return 'Other'"
      ],
      "execution_count": null,
      "outputs": []
    },
    {
      "cell_type": "code",
      "metadata": {
        "id": "95QPFV9aGwu6"
      },
      "source": [
        "# We want to drop unnecessary columns \n",
        "columns_to_keep = ['year','origin','dest','sitc4','export_val']\n",
        "colombia_exports = colombia_exports[columns_to_keep]\n",
        "colombia_exports=colombia_exports.rename(columns={'sitc4':'sitc'})\n",
        "colombia_imports = colombia_imports[columns_to_keep]\n",
        "colombia_imports = colombia_imports.rename(columns={'sitc4':'sitc', 'export_val':'import_val'})\n",
        "country_names = country_names[['id','id_3char','name']]\n",
        "groups_sitc = groups_sitc[['id','category']]\n",
        "groups_sitc['id'] = groups_sitc['id'].astype(str).str.zfill(2) # group code has 2 characters\n",
        "products_sitc = products_sitc[['id','sitc','name']]"
      ],
      "execution_count": null,
      "outputs": []
    },
    {
      "cell_type": "code",
      "metadata": {
        "id": "kwcOmUx4G0zV"
      },
      "source": [
        "# Joining information \n",
        "# -------------------------- EXPORTS DF-------------------------------------\n",
        "exports_df = pd.merge(colombia_exports,country_names, how = 'inner', left_on = 'dest', right_on = 'id_3char').drop(columns='id_3char')\n",
        "exports_df['to continent'] = exports_df['id'].apply(lambda x : create_continent(x))\n",
        "exports_df = (exports_df\n",
        "              .rename(columns={'name':'country name'})\n",
        "              .drop(columns='id'))\n",
        "exports_df = (pd.merge(exports_df,products_sitc[['sitc','name']], how='inner', on = 'sitc' )\n",
        "                .rename(columns={'name':'product name'}))\n",
        "exports_df['sitc'] = exports_df['sitc'].astype(str).str.zfill(4) # Now we need 4 characters in sitc\n",
        "exports_df['sitc']=exports_df['sitc'].str.extract(r'(^\\d{2})') # The first 2 characters are the group sitc code \n",
        "exports_df = (pd.merge(exports_df,groups_sitc,how='inner',left_on='sitc',right_on='id')\n",
        "                .drop(columns=['sitc','id']))\n",
        "\n",
        "# --------------------------- IMPORTS DF ---------------------------------------\n",
        "imports_df = pd.merge(colombia_imports,country_names, how = 'inner', left_on = 'dest', right_on = 'id_3char').drop(columns='id_3char')\n",
        "imports_df['from continent'] = imports_df['id'].apply(lambda x : create_continent(x))\n",
        "imports_df = (imports_df\n",
        "              .rename(columns={'name':'country name'})\n",
        "              .drop(columns='id'))\n",
        "imports_df = (pd.merge(imports_df,products_sitc[['sitc','name']], how='inner', on = 'sitc' )\n",
        "                .rename(columns={'name':'product name'}))\n",
        "imports_df['sitc'] = imports_df['sitc'].astype(str).str.zfill(4) # Now we need 4 characters in sitc\n",
        "imports_df['sitc']=imports_df['sitc'].str.extract(r'(^\\d{2})') # The first 2 characters are the group sitc code \n",
        "imports_df = (pd.merge(imports_df,groups_sitc,how='inner',left_on='sitc',right_on='id')\n",
        "                .drop(columns=['sitc','id']))\n",
        "\n",
        "#----------------------------- WORLD BANK -------------------------------------\n",
        "columns_to_drop = ['Country Code', 'Indicator Name', 'Indicator Code']\n",
        "population = population[population['Country Name'] == 'Colombia'].drop(columns=columns_to_drop)\n",
        "GDP_current = GDP_current[GDP_current['Country Name'] == 'Colombia'].drop(columns=columns_to_drop).dropna(axis=1)\n",
        "GDP_growth = GDP_growth[GDP_growth['Country Name'] == 'Colombia'].drop(columns=columns_to_drop).dropna(axis=1)\n",
        "elec_access = elec_access[elec_access['Country Name'] == 'Colombia'].drop(columns=columns_to_drop).dropna(axis=1)\n",
        "elec_use = elec_use[elec_use['Country Name'] == 'Colombia'].drop(columns=columns_to_drop).dropna(axis=1)\n"
      ],
      "execution_count": null,
      "outputs": []
    },
    {
      "cell_type": "code",
      "metadata": {
        "id": "OYdL5fuyG-Qr"
      },
      "source": [
        "exports_df.groupby('to continent').count()['year'].sort_values(ascending=False)"
      ],
      "execution_count": null,
      "outputs": []
    }
  ]
}